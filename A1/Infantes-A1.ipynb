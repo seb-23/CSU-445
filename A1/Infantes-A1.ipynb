{
 "cells": [
  {
   "cell_type": "markdown",
   "metadata": {},
   "source": [
    "# A1.1 Linear Regression with SGD"
   ]
  },
  {
   "cell_type": "markdown",
   "metadata": {},
   "source": [
    "* A1.1: *Added preliminary grading script in last cells of notebook.*"
   ]
  },
  {
   "cell_type": "markdown",
   "metadata": {},
   "source": [
    "In this assignment, you will implement three functions `train`, `use`, and `rmse` and apply them to some weather data.\n",
    "Here are the specifications for these functions, which you must satisfy."
   ]
  },
  {
   "cell_type": "markdown",
   "metadata": {},
   "source": [
    "`model = train(X, T, learning_rate, n_epochs, verbose)`\n",
    "* `X`: is an $N$ x $D$ matrix of input data samples, one per row. $N$ is the number of samples and $D$ is the number of variable values in\n",
    "each sample.\n",
    "* `T`: is an $N$ x $K$ matrix of desired target values for each sample.  $K$ is the number of output values you want to predict for each sample.\n",
    "* `learning_rate`: is a scalar that controls the step size of each update to the weight values.\n",
    "* `n_epochs`: is the number of epochs, or passes, through all $N$ samples, to take while updating the weight values.\n",
    "* `verbose`: is True or False (default value) to control whether or not occasional text is printed to show the training progress.\n",
    "* `model`: is the returned value, which must be a dictionary with the keys `'w'`, `'Xmeans'`, `'Xstds'`, `'Tmeans'` and `'Tstds'`.\n",
    "\n",
    "`Y = use(X, model)`\n",
    "* `X`: is an $N$ x $D$ matrix of input data samples, one per row, for which you want to predict the target values.\n",
    "* `model`: is the dictionary returned by `train`.\n",
    "* `Y`: is the returned $N$ x $K$ matrix of predicted values, one for each sample in `X`.\n",
    "\n",
    "`result = rmse(Y, T)`\n",
    "* `Y`: is an $N$ x $K$ matrix of predictions produced by `use`.\n",
    "* `T`: is the $N$ x $K$ matrix of target values.\n",
    "* `result`: is a scalar calculated as the square root of the mean of the squared differences between each sample (row) in `Y` and `T`."
   ]
  },
  {
   "cell_type": "markdown",
   "metadata": {},
   "source": [
    "To get you started, here are the standard imports we need."
   ]
  },
  {
   "cell_type": "code",
   "execution_count": 1,
   "metadata": {
    "lines_to_next_cell": 1
   },
   "outputs": [],
   "source": [
    "import numpy as np\n",
    "import matplotlib.pyplot as plt\n",
    "import pandas as pd"
   ]
  },
  {
   "cell_type": "markdown",
   "metadata": {},
   "source": [
    "## 60 points: 40 for train, 10 for use, 10 for rmse"
   ]
  },
  {
   "cell_type": "markdown",
   "metadata": {},
   "source": [
    "Now here is a start at defining the `train`, `use`, and `rmse`\n",
    "functions.  Fill in the correct code wherever you see `. . .` with\n",
    "one or more lines of code."
   ]
  },
  {
   "cell_type": "code",
   "execution_count": 25,
   "metadata": {
    "lines_to_next_cell": 1
   },
   "outputs": [],
   "source": [
    "def train(X, T, learning_rate, n_epochs, verbose=False):\n",
    "    # Calculate means and standard deviations of each column in X and T\n",
    "\n",
    "    Xmeans = np.mean(X, axis = 0)\n",
    "    Xstds = np.std(X, axis = 0)\n",
    "\n",
    "    Tmeans = np.mean(T, axis = 0)\n",
    "    Tstds = np.std(T, axis = 0)\n",
    "   \n",
    "    # Use the means and standard deviations to standardize X and T\n",
    "    X = (X - Xmeans)/Xstds\n",
    "    #np.mean(X, axis=0), np.std(X,axis=0)\n",
    "\n",
    "    T = (T - Tmeans) / Tstds\n",
    "    #np.mean(T, axis=0), np.std(T,axis=0)\n",
    "\n",
    "    # Insert the column of constant 1's as a new initial column in X\n",
    "\n",
    "    X1 = np.insert(X,0,1,axis=1)\n",
    "    n_samples, n_inputs = X1.shape\n",
    "   \n",
    "    # Initialize weights to be a numpy array of the correct shape and all zeros values.\n",
    "    rows, cols = T.shape\n",
    "    w = np.zeros((n_inputs,cols))\n",
    "\n",
    "    for epoch in range(n_epochs):\n",
    "        sqerror_sum = 0\n",
    "\n",
    "        for n in range(n_samples):\n",
    "\n",
    "            # Use current weight values to predict output for sample n, then\n",
    "            # calculate the error, and\n",
    "            # update the weight values.\n",
    "            y = X1[n:n + 1, :] @ w\n",
    "            error = T[n:n + 1, :] - y\n",
    "            w += learning_rate * X1[n:n + 1, :].T * error\n",
    "           \n",
    "           \n",
    "            # Add the squared error to sqerror_sum\n",
    "            sqerror_sum += error ** 2\n",
    "           \n",
    "        if verbose and (n_epochs < 11 or (epoch + 1) % (n_epochs // 10) == 0):\n",
    "            rmse = np.sqrt(sqerror_sum / n_samples)\n",
    "            rmse = rmse[0, 0]  # because rmse is 1x1 matrix\n",
    "            print(f'Epoch {epoch + 1} RMSE {rmse:.2f}')\n",
    "\n",
    "    return {'w': w, 'Xmeans': Xmeans, 'Xstds': Xstds,\n",
    "            'Tmeans': Tmeans, 'Tstds': Tstds}"
   ]
  },
  {
   "cell_type": "code",
   "execution_count": 26,
   "metadata": {
    "lines_to_next_cell": 1
   },
   "outputs": [],
   "source": [
    "def use(X, model):\n",
    "    # Standardize X using Xmeans and Xstds in model\n",
    "    X = (X - model['Xmeans'])/model['Xstds']\n",
    "    #np.mean(X, axis=0), np.std(X,axis=0)\n",
    "\n",
    "    # Predict output values using weights in model\n",
    "    X1 = np.insert(X,0,1,axis=1)\n",
    "    predict = X1 @ model['w']\n",
    "   \n",
    "    # Unstandardize the predicted output values using Tmeans and Tstds in model\n",
    "    Y = predict * model['Tstds'] + model['Tmeans']\n",
    "   \n",
    "    # Return the unstandardized output values\n",
    "    return Y"
   ]
  },
  {
   "cell_type": "code",
   "execution_count": 4,
   "metadata": {
    "lines_to_next_cell": 1
   },
   "outputs": [],
   "source": [
    "def rmse(A, B):\n",
    "    # Y = Predictions  :  T = Targets\n",
    "    return np.sqrt(np.mean((A-B)**2))"
   ]
  },
  {
   "cell_type": "markdown",
   "metadata": {},
   "source": [
    "Here is a simple example use of your functions to help you debug them.  Your functions must produce the same results."
   ]
  },
  {
   "cell_type": "code",
   "execution_count": 5,
   "metadata": {},
   "outputs": [
    {
     "data": {
      "image/png": "[encoded data removed]",
      "text/plain": [
       "<Figure size 432x288 with 1 Axes>"
      ]
     },
     "metadata": {
      "needs_background": "light"
     },
     "output_type": "display_data"
    }
   ],
   "source": [
    "X = np.arange(0, 100).reshape(-1, 1)  # make X a 100 x 1 matrix\n",
    "T = 0.5 + 0.3 * X + 0.005 * (X - 50) ** 2\n",
    "plt.plot(X, T, '.')\n",
    "plt.xlabel('X')\n",
    "plt.ylabel('T');"
   ]
  },
  {
   "cell_type": "code",
   "execution_count": 6,
   "metadata": {},
   "outputs": [
    {
     "name": "stdout",
     "output_type": "stream",
     "text": [
      "Epoch 5 RMSE 0.40\n",
      "Epoch 10 RMSE 0.40\n",
      "Epoch 15 RMSE 0.40\n",
      "Epoch 20 RMSE 0.40\n",
      "Epoch 25 RMSE 0.40\n",
      "Epoch 30 RMSE 0.40\n",
      "Epoch 35 RMSE 0.40\n",
      "Epoch 40 RMSE 0.40\n",
      "Epoch 45 RMSE 0.40\n",
      "Epoch 50 RMSE 0.40\n"
     ]
    },
    {
     "data": {
      "text/plain": [
       "{'w': array([[-0.00576098],\n",
       "        [ 1.05433338]]),\n",
       " 'Xmeans': array([49.5]),\n",
       " 'Xstds': array([28.86607005]),\n",
       " 'Tmeans': array([19.5175]),\n",
       " 'Tstds': array([9.29491938])}"
      ]
     },
     "execution_count": 6,
     "metadata": {},
     "output_type": "execute_result"
    }
   ],
   "source": [
    "model = train(X, T, 0.01, 50, verbose=True)\n",
    "model"
   ]
  },
  {
   "cell_type": "code",
   "execution_count": 7,
   "metadata": {},
   "outputs": [
    {
     "data": {
      "text/plain": [
       "<matplotlib.legend.Legend at 0x7fb8e5865af0>"
      ]
     },
     "execution_count": 7,
     "metadata": {},
     "output_type": "execute_result"
    },
    {
     "data": {
      "image/png": "[encoded data removed]",
      "text/plain": [
       "<Figure size 432x288 with 1 Axes>"
      ]
     },
     "metadata": {
      "needs_background": "light"
     },
     "output_type": "display_data"
    }
   ],
   "source": [
    "Y = use(X, model)\n",
    "plt.plot(T, '.', label='T')\n",
    "plt.plot(Y, '.', label='Y')\n",
    "plt.legend()"
   ]
  },
  {
   "cell_type": "code",
   "execution_count": 8,
   "metadata": {},
   "outputs": [
    {
     "data": {
      "text/plain": [
       "[<matplotlib.lines.Line2D at 0x7fb8e585ae20>]"
      ]
     },
     "execution_count": 8,
     "metadata": {},
     "output_type": "execute_result"
    },
    {
     "data": {
      "image/png": "[encoded data removed]",
      "text/plain": [
       "<Figure size 432x288 with 1 Axes>"
      ]
     },
     "metadata": {
      "needs_background": "light"
     },
     "output_type": "display_data"
    }
   ],
   "source": [
    "plt.plot(Y[:, 0], T[:, 0], 'o')\n",
    "plt.xlabel('Predicted')\n",
    "plt.ylabel('Actual')\n",
    "a = max(min(Y[:, 0]), min(T[:, 0]))\n",
    "b = min(max(Y[:, 0]), max(T[:, 0]))\n",
    "plt.plot([a, b], [a, b], 'r', linewidth=3)"
   ]
  },
  {
   "cell_type": "markdown",
   "metadata": {},
   "source": [
    "## Weather Data"
   ]
  },
  {
   "cell_type": "markdown",
   "metadata": {},
   "source": [
    "Now that your functions are working, we can apply them to some real data. We will use data\n",
    "from  [CSU's CoAgMet Station Daily Data Access](http://coagmet.colostate.edu/cgi-bin/dailydata_form.pl).\n",
    "\n",
    "You can get the data file [here](http://www.cs.colostate.edu/~cs445/notebooks/A1_data.txt)"
   ]
  },
  {
   "cell_type": "markdown",
   "metadata": {},
   "source": [
    "## 5 points:\n",
    "\n",
    "Read in the data into variable `df` using `pandas.read_csv` like we did in lecture notes.\n",
    "Missing values in this dataset are indicated by the string `'***'`."
   ]
  },
  {
   "cell_type": "code",
   "execution_count": 9,
   "metadata": {},
   "outputs": [
    {
     "data": {
      "text/html": [
       "<div>\n",
       "<style scoped>\n",
       "    .dataframe tbody tr th:only-of-type {\n",
       "        vertical-align: middle;\n",
       "    }\n",
       "\n",
       "    .dataframe tbody tr th {\n",
       "        vertical-align: top;\n",
       "    }\n",
       "\n",
       "    .dataframe thead th {\n",
       "        text-align: right;\n",
       "    }\n",
       "</style>\n",
       "<table border=\"1\" class=\"dataframe\">\n",
       "  <thead>\n",
       "    <tr style=\"text-align: right;\">\n",
       "      <th></th>\n",
       "      <th>Year</th>\n",
       "      <th>Mo</th>\n",
       "      <th>Dy</th>\n",
       "      <th>tave</th>\n",
       "      <th>tmax</th>\n",
       "      <th>mxtm</th>\n",
       "      <th>tmin</th>\n",
       "      <th>mntm</th>\n",
       "      <th>vp</th>\n",
       "      <th>rhmax</th>\n",
       "      <th>...</th>\n",
       "      <th>st15mx</th>\n",
       "      <th>st15mxtm</th>\n",
       "      <th>st15mn</th>\n",
       "      <th>st15mntm</th>\n",
       "      <th>volts</th>\n",
       "      <th>year</th>\n",
       "      <th>gust</th>\n",
       "      <th>gusttm</th>\n",
       "      <th>gusdir</th>\n",
       "      <th>etr_asce</th>\n",
       "    </tr>\n",
       "  </thead>\n",
       "  <tbody>\n",
       "    <tr>\n",
       "      <th>0</th>\n",
       "      <td>2019</td>\n",
       "      <td>1</td>\n",
       "      <td>1</td>\n",
       "      <td>-13.535</td>\n",
       "      <td>-10.073</td>\n",
       "      <td>14:10</td>\n",
       "      <td>-16.997</td>\n",
       "      <td>23:50</td>\n",
       "      <td>0.153</td>\n",
       "      <td>0.830</td>\n",
       "      <td>...</td>\n",
       "      <td>-1.803</td>\n",
       "      <td>00:00</td>\n",
       "      <td>-3.195</td>\n",
       "      <td>23:00</td>\n",
       "      <td>NaN</td>\n",
       "      <td>2019.0</td>\n",
       "      <td>5.155</td>\n",
       "      <td>08:10</td>\n",
       "      <td>NaN</td>\n",
       "      <td>0.324</td>\n",
       "    </tr>\n",
       "    <tr>\n",
       "      <th>1</th>\n",
       "      <td>2019</td>\n",
       "      <td>1</td>\n",
       "      <td>2</td>\n",
       "      <td>-5.791</td>\n",
       "      <td>6.010</td>\n",
       "      <td>14:50</td>\n",
       "      <td>-17.591</td>\n",
       "      <td>04:00</td>\n",
       "      <td>0.209</td>\n",
       "      <td>0.839</td>\n",
       "      <td>...</td>\n",
       "      <td>-2.941</td>\n",
       "      <td>19:00</td>\n",
       "      <td>-4.802</td>\n",
       "      <td>11:00</td>\n",
       "      <td>NaN</td>\n",
       "      <td>2019.0</td>\n",
       "      <td>4.332</td>\n",
       "      <td>11:50</td>\n",
       "      <td>NaN</td>\n",
       "      <td>0.521</td>\n",
       "    </tr>\n",
       "    <tr>\n",
       "      <th>2</th>\n",
       "      <td>2019</td>\n",
       "      <td>1</td>\n",
       "      <td>3</td>\n",
       "      <td>1.374</td>\n",
       "      <td>13.444</td>\n",
       "      <td>13:50</td>\n",
       "      <td>-10.696</td>\n",
       "      <td>05:00</td>\n",
       "      <td>0.340</td>\n",
       "      <td>0.836</td>\n",
       "      <td>...</td>\n",
       "      <td>-1.979</td>\n",
       "      <td>22:00</td>\n",
       "      <td>-4.639</td>\n",
       "      <td>10:00</td>\n",
       "      <td>NaN</td>\n",
       "      <td>2019.0</td>\n",
       "      <td>4.096</td>\n",
       "      <td>15:40</td>\n",
       "      <td>NaN</td>\n",
       "      <td>0.729</td>\n",
       "    </tr>\n",
       "    <tr>\n",
       "      <th>3</th>\n",
       "      <td>2019</td>\n",
       "      <td>1</td>\n",
       "      <td>4</td>\n",
       "      <td>4.544</td>\n",
       "      <td>15.089</td>\n",
       "      <td>14:40</td>\n",
       "      <td>-6.000</td>\n",
       "      <td>06:00</td>\n",
       "      <td>0.429</td>\n",
       "      <td>0.815</td>\n",
       "      <td>...</td>\n",
       "      <td>-0.963</td>\n",
       "      <td>23:00</td>\n",
       "      <td>-2.768</td>\n",
       "      <td>10:00</td>\n",
       "      <td>NaN</td>\n",
       "      <td>2019.0</td>\n",
       "      <td>4.096</td>\n",
       "      <td>12:30</td>\n",
       "      <td>NaN</td>\n",
       "      <td>0.893</td>\n",
       "    </tr>\n",
       "    <tr>\n",
       "      <th>4</th>\n",
       "      <td>2019</td>\n",
       "      <td>1</td>\n",
       "      <td>5</td>\n",
       "      <td>4.465</td>\n",
       "      <td>14.441</td>\n",
       "      <td>12:50</td>\n",
       "      <td>-5.510</td>\n",
       "      <td>06:40</td>\n",
       "      <td>0.399</td>\n",
       "      <td>0.769</td>\n",
       "      <td>...</td>\n",
       "      <td>-0.350</td>\n",
       "      <td>23:00</td>\n",
       "      <td>-1.401</td>\n",
       "      <td>11:00</td>\n",
       "      <td>NaN</td>\n",
       "      <td>2019.0</td>\n",
       "      <td>4.077</td>\n",
       "      <td>12:20</td>\n",
       "      <td>NaN</td>\n",
       "      <td>0.867</td>\n",
       "    </tr>\n",
       "    <tr>\n",
       "      <th>...</th>\n",
       "      <td>...</td>\n",
       "      <td>...</td>\n",
       "      <td>...</td>\n",
       "      <td>...</td>\n",
       "      <td>...</td>\n",
       "      <td>...</td>\n",
       "      <td>...</td>\n",
       "      <td>...</td>\n",
       "      <td>...</td>\n",
       "      <td>...</td>\n",
       "      <td>...</td>\n",
       "      <td>...</td>\n",
       "      <td>...</td>\n",
       "      <td>...</td>\n",
       "      <td>...</td>\n",
       "      <td>...</td>\n",
       "      <td>...</td>\n",
       "      <td>...</td>\n",
       "      <td>...</td>\n",
       "      <td>...</td>\n",
       "      <td>...</td>\n",
       "    </tr>\n",
       "    <tr>\n",
       "      <th>360</th>\n",
       "      <td>2019</td>\n",
       "      <td>12</td>\n",
       "      <td>27</td>\n",
       "      <td>-1.493</td>\n",
       "      <td>2.260</td>\n",
       "      <td>14:40</td>\n",
       "      <td>-5.245</td>\n",
       "      <td>07:30</td>\n",
       "      <td>0.403</td>\n",
       "      <td>0.908</td>\n",
       "      <td>...</td>\n",
       "      <td>0.308</td>\n",
       "      <td>06:00</td>\n",
       "      <td>0.257</td>\n",
       "      <td>14:00</td>\n",
       "      <td>NaN</td>\n",
       "      <td>2019.0</td>\n",
       "      <td>4.469</td>\n",
       "      <td>16:00</td>\n",
       "      <td>NaN</td>\n",
       "      <td>0.473</td>\n",
       "    </tr>\n",
       "    <tr>\n",
       "      <th>361</th>\n",
       "      <td>2019</td>\n",
       "      <td>12</td>\n",
       "      <td>28</td>\n",
       "      <td>-2.695</td>\n",
       "      <td>-1.102</td>\n",
       "      <td>01:50</td>\n",
       "      <td>-4.288</td>\n",
       "      <td>07:00</td>\n",
       "      <td>0.363</td>\n",
       "      <td>0.973</td>\n",
       "      <td>...</td>\n",
       "      <td>0.298</td>\n",
       "      <td>20:00</td>\n",
       "      <td>0.264</td>\n",
       "      <td>10:00</td>\n",
       "      <td>NaN</td>\n",
       "      <td>2019.0</td>\n",
       "      <td>10.623</td>\n",
       "      <td>12:20</td>\n",
       "      <td>NaN</td>\n",
       "      <td>0.681</td>\n",
       "    </tr>\n",
       "    <tr>\n",
       "      <th>362</th>\n",
       "      <td>2019</td>\n",
       "      <td>12</td>\n",
       "      <td>29</td>\n",
       "      <td>-3.731</td>\n",
       "      <td>1.871</td>\n",
       "      <td>13:30</td>\n",
       "      <td>-9.333</td>\n",
       "      <td>22:40</td>\n",
       "      <td>0.221</td>\n",
       "      <td>0.690</td>\n",
       "      <td>...</td>\n",
       "      <td>0.288</td>\n",
       "      <td>00:00</td>\n",
       "      <td>0.219</td>\n",
       "      <td>23:00</td>\n",
       "      <td>NaN</td>\n",
       "      <td>2019.0</td>\n",
       "      <td>11.486</td>\n",
       "      <td>07:10</td>\n",
       "      <td>NaN</td>\n",
       "      <td>1.039</td>\n",
       "    </tr>\n",
       "    <tr>\n",
       "      <th>363</th>\n",
       "      <td>2019</td>\n",
       "      <td>12</td>\n",
       "      <td>30</td>\n",
       "      <td>-5.427</td>\n",
       "      <td>1.293</td>\n",
       "      <td>13:40</td>\n",
       "      <td>-12.147</td>\n",
       "      <td>06:20</td>\n",
       "      <td>0.226</td>\n",
       "      <td>0.833</td>\n",
       "      <td>...</td>\n",
       "      <td>0.200</td>\n",
       "      <td>00:00</td>\n",
       "      <td>-0.150</td>\n",
       "      <td>23:00</td>\n",
       "      <td>NaN</td>\n",
       "      <td>2019.0</td>\n",
       "      <td>4.586</td>\n",
       "      <td>14:30</td>\n",
       "      <td>NaN</td>\n",
       "      <td>0.504</td>\n",
       "    </tr>\n",
       "    <tr>\n",
       "      <th>364</th>\n",
       "      <td>2019</td>\n",
       "      <td>12</td>\n",
       "      <td>31</td>\n",
       "      <td>-4.175</td>\n",
       "      <td>4.810</td>\n",
       "      <td>13:10</td>\n",
       "      <td>-13.160</td>\n",
       "      <td>06:50</td>\n",
       "      <td>0.247</td>\n",
       "      <td>0.862</td>\n",
       "      <td>...</td>\n",
       "      <td>-0.174</td>\n",
       "      <td>00:00</td>\n",
       "      <td>-0.917</td>\n",
       "      <td>13:00</td>\n",
       "      <td>NaN</td>\n",
       "      <td>2019.0</td>\n",
       "      <td>5.566</td>\n",
       "      <td>18:40</td>\n",
       "      <td>NaN</td>\n",
       "      <td>0.503</td>\n",
       "    </tr>\n",
       "  </tbody>\n",
       "</table>\n",
       "<p>365 rows × 30 columns</p>\n",
       "</div>"
      ],
      "text/plain": [
       "     Year  Mo  Dy    tave    tmax   mxtm    tmin   mntm     vp  rhmax  ...  \\\n",
       "0    2019   1   1 -13.535 -10.073  14:10 -16.997  23:50  0.153  0.830  ...   \n",
       "1    2019   1   2  -5.791   6.010  14:50 -17.591  04:00  0.209  0.839  ...   \n",
       "2    2019   1   3   1.374  13.444  13:50 -10.696  05:00  0.340  0.836  ...   \n",
       "3    2019   1   4   4.544  15.089  14:40  -6.000  06:00  0.429  0.815  ...   \n",
       "4    2019   1   5   4.465  14.441  12:50  -5.510  06:40  0.399  0.769  ...   \n",
       "..    ...  ..  ..     ...     ...    ...     ...    ...    ...    ...  ...   \n",
       "360  2019  12  27  -1.493   2.260  14:40  -5.245  07:30  0.403  0.908  ...   \n",
       "361  2019  12  28  -2.695  -1.102  01:50  -4.288  07:00  0.363  0.973  ...   \n",
       "362  2019  12  29  -3.731   1.871  13:30  -9.333  22:40  0.221  0.690  ...   \n",
       "363  2019  12  30  -5.427   1.293  13:40 -12.147  06:20  0.226  0.833  ...   \n",
       "364  2019  12  31  -4.175   4.810  13:10 -13.160  06:50  0.247  0.862  ...   \n",
       "\n",
       "    st15mx  st15mxtm st15mn  st15mntm  volts    year    gust gusttm  gusdir  \\\n",
       "0   -1.803     00:00 -3.195     23:00    NaN  2019.0   5.155  08:10     NaN   \n",
       "1   -2.941     19:00 -4.802     11:00    NaN  2019.0   4.332  11:50     NaN   \n",
       "2   -1.979     22:00 -4.639     10:00    NaN  2019.0   4.096  15:40     NaN   \n",
       "3   -0.963     23:00 -2.768     10:00    NaN  2019.0   4.096  12:30     NaN   \n",
       "4   -0.350     23:00 -1.401     11:00    NaN  2019.0   4.077  12:20     NaN   \n",
       "..     ...       ...    ...       ...    ...     ...     ...    ...     ...   \n",
       "360  0.308     06:00  0.257     14:00    NaN  2019.0   4.469  16:00     NaN   \n",
       "361  0.298     20:00  0.264     10:00    NaN  2019.0  10.623  12:20     NaN   \n",
       "362  0.288     00:00  0.219     23:00    NaN  2019.0  11.486  07:10     NaN   \n",
       "363  0.200     00:00 -0.150     23:00    NaN  2019.0   4.586  14:30     NaN   \n",
       "364 -0.174     00:00 -0.917     13:00    NaN  2019.0   5.566  18:40     NaN   \n",
       "\n",
       "    etr_asce  \n",
       "0      0.324  \n",
       "1      0.521  \n",
       "2      0.729  \n",
       "3      0.893  \n",
       "4      0.867  \n",
       "..       ...  \n",
       "360    0.473  \n",
       "361    0.681  \n",
       "362    1.039  \n",
       "363    0.504  \n",
       "364    0.503  \n",
       "\n",
       "[365 rows x 30 columns]"
      ]
     },
     "execution_count": 9,
     "metadata": {},
     "output_type": "execute_result"
    }
   ],
   "source": [
    "df = pd.read_csv('A1_data.txt', delim_whitespace=True, na_values=\"***\")\n",
    "df"
   ]
  },
  {
   "cell_type": "markdown",
   "metadata": {},
   "source": [
    "## 5 points:\n",
    "\n",
    "Check for missing values by showing the number of NA values, as shown in lecture notes."
   ]
  },
  {
   "cell_type": "code",
   "execution_count": 10,
   "metadata": {},
   "outputs": [
    {
     "data": {
      "text/plain": [
       "Year          0\n",
       "Mo            0\n",
       "Dy            0\n",
       "tave          0\n",
       "tmax          0\n",
       "mxtm          0\n",
       "tmin          0\n",
       "mntm          0\n",
       "vp            0\n",
       "rhmax         0\n",
       "rhmxtm        0\n",
       "rhmin         0\n",
       "rhmntm        0\n",
       "sr            0\n",
       "wrun          0\n",
       "pp            0\n",
       "st5mx       211\n",
       "st5mxtm     211\n",
       "st5mn       211\n",
       "st5mntm     211\n",
       "st15mx        0\n",
       "st15mxtm      0\n",
       "st15mn        0\n",
       "st15mntm      0\n",
       "volts       365\n",
       "year          0\n",
       "gust          0\n",
       "gusttm        0\n",
       "gusdir      365\n",
       "etr_asce      0\n",
       "dtype: int64"
      ]
     },
     "execution_count": 10,
     "metadata": {},
     "output_type": "execute_result"
    }
   ],
   "source": [
    "df.isna().sum()"
   ]
  },
  {
   "cell_type": "markdown",
   "metadata": {},
   "source": [
    "## 5 points:\n",
    "\n",
    "If there are missing values, remove either samples or features that contain missing values. Prove that you\n",
    "were successful by counting the number of missing values now, which should be zero."
   ]
  },
  {
   "cell_type": "code",
   "execution_count": 11,
   "metadata": {},
   "outputs": [],
   "source": [
    "# Due to the way my code is written this has to come before I can remove the missing values\n",
    "Xnames = ['tave', 'tmax', 'tmin', 'vp', 'rhmax', 'rhmin', 'pp', 'gust']\n",
    "Tnames = ['next tave']"
   ]
  },
  {
   "cell_type": "markdown",
   "metadata": {},
   "source": [
    "Your job is now to create a linear model that predicts the next day's average temperature (tave) from the previous day's values. A discription of all features can be found [here](https://coagmet.colostate.edu/rawdata_docs.php). To start, consider just focusing on these features: \n",
    "1. tave: average temperature\n",
    "2. tmax: maximum temperature\n",
    "3. tmin: minimum temperature\n",
    "4. vp: vapor pressure\n",
    "5. rhmax: maximum relative humidity\n",
    "6. rhmin: minimum relative humidity\n",
    "7. pp: precipitation\n",
    "8. gust: wind gust speed\n",
    "\n",
    "First, modify the datafile to add a new column: 'next tave' -- here's a hint on your X and T vectors names:"
   ]
  },
  {
   "cell_type": "code",
   "execution_count": 12,
   "metadata": {},
   "outputs": [
    {
     "data": {
      "text/plain": [
       "tave     0\n",
       "tmax     0\n",
       "tmin     0\n",
       "vp       0\n",
       "rhmax    0\n",
       "rhmin    0\n",
       "pp       0\n",
       "gust     0\n",
       "dtype: int64"
      ]
     },
     "execution_count": 12,
     "metadata": {},
     "output_type": "execute_result"
    }
   ],
   "source": [
    "df = df[Xnames]\n",
    "df = df.dropna()\n",
    "df.isna().sum()"
   ]
  },
  {
   "cell_type": "markdown",
   "metadata": {},
   "source": [
    "## 5 points:\n",
    "\n",
    "Now select those eight columns from `df` and convert the result to a `numpy` array.  (Easier than it sounds.)\n",
    "Then assign `X` to be all columns and all but the last row.  Assign `T` to be just the first column (tave) and all but the first sample.  So now the first row (sample) in `X` is associated with the first row (sample) in `T` which tave for the following day."
   ]
  },
  {
   "cell_type": "code",
   "execution_count": 13,
   "metadata": {},
   "outputs": [
    {
     "data": {
      "text/plain": [
       "((364, 1), (364, 8))"
      ]
     },
     "execution_count": 13,
     "metadata": {},
     "output_type": "execute_result"
    }
   ],
   "source": [
    "T_df = df[['tave']][1:]\n",
    "T = T_df.to_numpy()\n",
    "X = df.to_numpy()\n",
    "X = X[:-1]\n",
    "T.shape, X.shape"
   ]
  },
  {
   "cell_type": "markdown",
   "metadata": {},
   "source": [
    "## 15 points:\n",
    "\n",
    "Use the function `train` to train a model for the `X`\n",
    "and `T` data.  Run it several times with different `learning_rate`\n",
    "and `n_epochs` values to produce decreasing errors. Use the `use`\n",
    "function and plots of `T` versus predicted `Y` values to show how\n",
    "well the model is working.  Type your observations of the plot and of the value of `rmse` to discuss how well the model succeeds."
   ]
  },
  {
   "cell_type": "code",
   "execution_count": 81,
   "metadata": {},
   "outputs": [
    {
     "name": "stdout",
     "output_type": "stream",
     "text": [
      "Model:1\n",
      "Epoch 5 RMSE 0.64\n",
      "Epoch 10 RMSE 0.63\n",
      "Epoch 15 RMSE 0.63\n",
      "Epoch 20 RMSE 0.63\n",
      "Epoch 25 RMSE 0.63\n",
      "Epoch 30 RMSE 0.63\n",
      "Epoch 35 RMSE 0.63\n",
      "Epoch 40 RMSE 0.63\n",
      "Epoch 45 RMSE 0.63\n",
      "Epoch 50 RMSE 0.63\n",
      "rmse 1: 6.329902634399548\n"
     ]
    },
    {
     "data": {
      "image/png": "[encoded data removed]",
      "text/plain": [
       "<Figure size 432x288 with 1 Axes>"
      ]
     },
     "metadata": {
      "needs_background": "light"
     },
     "output_type": "display_data"
    },
    {
     "name": "stdout",
     "output_type": "stream",
     "text": [
      "\n",
      "Model:2\n",
      "Epoch 1 RMSE 0.39\n",
      "Epoch 2 RMSE 0.34\n",
      "Epoch 3 RMSE 0.34\n",
      "Epoch 4 RMSE 0.34\n",
      "Epoch 5 RMSE 0.34\n",
      "Epoch 6 RMSE 0.34\n",
      "Epoch 7 RMSE 0.34\n",
      "Epoch 8 RMSE 0.34\n",
      "Epoch 9 RMSE 0.34\n",
      "Epoch 10 RMSE 0.34\n",
      "rmse 2: 3.4323503395097554\n"
     ]
    },
    {
     "data": {
      "image/png": "[encoded data removed]",
      "text/plain": [
       "<Figure size 432x288 with 1 Axes>"
      ]
     },
     "metadata": {
      "needs_background": "light"
     },
     "output_type": "display_data"
    },
    {
     "name": "stdout",
     "output_type": "stream",
     "text": [
      "\n",
      "Model:3\n",
      "Epoch 5 RMSE 0.34\n",
      "Epoch 10 RMSE 0.33\n",
      "Epoch 15 RMSE 0.33\n",
      "Epoch 20 RMSE 0.33\n",
      "Epoch 25 RMSE 0.33\n",
      "Epoch 30 RMSE 0.33\n",
      "Epoch 35 RMSE 0.33\n",
      "Epoch 40 RMSE 0.33\n",
      "Epoch 45 RMSE 0.33\n",
      "Epoch 50 RMSE 0.33\n",
      "rmse 3: 3.3167191787057084\n"
     ]
    },
    {
     "data": {
      "image/png": "[encoded data removed]",
      "text/plain": [
       "<Figure size 432x288 with 1 Axes>"
      ]
     },
     "metadata": {
      "needs_background": "light"
     },
     "output_type": "display_data"
    },
    {
     "name": "stdout",
     "output_type": "stream",
     "text": [
      "\n",
      "Model:4\n",
      "Epoch 5 RMSE 0.94\n",
      "Epoch 10 RMSE 0.89\n",
      "Epoch 15 RMSE 0.84\n",
      "Epoch 20 RMSE 0.79\n",
      "Epoch 25 RMSE 0.74\n",
      "Epoch 30 RMSE 0.70\n",
      "Epoch 35 RMSE 0.67\n",
      "Epoch 40 RMSE 0.63\n",
      "Epoch 45 RMSE 0.60\n",
      "Epoch 50 RMSE 0.58\n",
      "rmse 4: 5.738091145691433\n"
     ]
    },
    {
     "data": {
      "image/png": "[encoded data removed]",
      "text/plain": [
       "<Figure size 432x288 with 1 Axes>"
      ]
     },
     "metadata": {
      "needs_background": "light"
     },
     "output_type": "display_data"
    },
    {
     "name": "stdout",
     "output_type": "stream",
     "text": [
      "\n",
      "Model:5\n",
      "Epoch 10 RMSE 1.00\n",
      "Epoch 20 RMSE 1.00\n",
      "Epoch 30 RMSE 1.00\n",
      "Epoch 40 RMSE 0.99\n",
      "Epoch 50 RMSE 0.99\n",
      "Epoch 60 RMSE 0.99\n",
      "Epoch 70 RMSE 0.99\n",
      "Epoch 80 RMSE 0.99\n",
      "Epoch 90 RMSE 0.99\n",
      "Epoch 100 RMSE 0.99\n",
      "rmse 5: 9.872696517039794\n"
     ]
    },
    {
     "data": {
      "image/png": "[encoded data removed]",
      "text/plain": [
       "<Figure size 432x288 with 1 Axes>"
      ]
     },
     "metadata": {
      "needs_background": "light"
     },
     "output_type": "display_data"
    }
   ],
   "source": [
    "print('Model:1')\n",
    "\n",
    "model1 = train(X, T, .1, 50, verbose=True)\n",
    "Y1 = use(X, model1)\n",
    "rmse1 = rmse(Y1,T)\n",
    "print('rmse 1:', rmse1)\n",
    "\n",
    "plt.plot(Y1[:365,:], '.', label='Y1')\n",
    "plt.plot(T[:365,:], '.', label='T')\n",
    "plt.legend()\n",
    "plt.show()\n",
    "\n",
    "'''\n",
    "The plot fits very good but we can probably do better because\n",
    "the learning_rate is large. With a learning_rate of .1 the \n",
    "lowest rmse that can be reached is 6.33. It doesn't matter how \n",
    "large the epoch gets either, it will remain at a constant rmse of\n",
    "6.33. A large concentration of the predictions do line up with the \n",
    "target values, but we can do better than this. Meaning we can \n",
    "get a lower rmse than 6.33.\n",
    "'''\n",
    "\n",
    "print('\\nModel:2')\n",
    "\n",
    "model2 = train(X, T, 0.01, 10, verbose=True)\n",
    "Y2 = use(X, model2)\n",
    "rmse2 = rmse(Y2,T)\n",
    "print('rmse 2:', rmse2)\n",
    "\n",
    "plt.plot(Y2[:365,:], '.', label='Y2')\n",
    "plt.plot(T[:365,:], '.', label='T')\n",
    "plt.legend()\n",
    "plt.show()\n",
    "\n",
    "'''\n",
    "The plot is at an extremely great fit. There is a high\n",
    "concentration of predicted values in the target value area.\n",
    "The epoch is at 10 because it doesn't need to get much \n",
    "bigger to produce the same constant of rmse 3.43. At an \n",
    "epoch of 10, rmse is at a constant of 3.43 and the same \n",
    "is true when epoch is at 100 & 1000 & so on. This leads me to \n",
    "believe there is likely a lower constant than 3.43 that we \n",
    "can manipulate the plot to be. With rmse being 3.43.\n",
    "'''\n",
    "\n",
    "print('\\nModel:3')\n",
    "\n",
    "model3 = train(X, T, 0.001, 50, verbose=True)\n",
    "Y3 = use(X, model3)\n",
    "rmse3 = rmse(Y3,T)\n",
    "print('rmse 3:', rmse3)\n",
    "\n",
    "plt.plot(Y3[:365,:], '.', label='Y3')\n",
    "plt.plot(T[:365,:], '.', label='T')\n",
    "plt.legend()\n",
    "plt.show()\n",
    "\n",
    "'''\n",
    "From my investigation with the learning rate & epoch\n",
    "manipulation, I found that the lowest rmse can be is 3.32. So \n",
    "because this is the lowest rmse value produced from all the \n",
    "models provided, it makes it the most successful model of them \n",
    "all. Again, the epoch does not need to be much higher than 50 \n",
    "because the lowest rmse can be according to this model is 3.32\n",
    "and an epoch of 50 already produces this.\n",
    "'''\n",
    "\n",
    "print('\\nModel:4')\n",
    "\n",
    "model4 = train(X, T, 0.00001, 50, verbose=True)\n",
    "Y4 = use(X, model4)\n",
    "rmse4 = rmse(Y4,T)\n",
    "print('rmse 4:', rmse4)\n",
    "\n",
    "plt.plot(Y4[:365,:], '.', label='Y4')\n",
    "plt.plot(T[:365,:], '.', label='T')\n",
    "plt.legend()\n",
    "plt.show()\n",
    "\n",
    "'''\n",
    "This model is not very successful in having a large \n",
    "concentration of predicted values fall in the target area.\n",
    "The reason for this is that the rmse is at 5.74. This is a\n",
    "good illustration to compare model 3 with, so that you can \n",
    "see with your own eyes why the learning rate and epoch matter\n",
    "when calculating this.\n",
    "'''\n",
    "\n",
    "print('\\nModel:5')\n",
    "\n",
    "model5 = train(X, T, 0.0000001, 100, verbose=True)\n",
    "Y5 = use(X, model5)\n",
    "rmse5 = rmse(Y5,T)\n",
    "print('rmse 5:', rmse5)\n",
    "\n",
    "'''\n",
    "This model has the worst fit out of all the ones provided.\n",
    "the rmse is at a 9.87, which is the highest out of all the\n",
    "models which is why it is the worst model of all. I displayed\n",
    "this model to show what the model should not look like. Do \n",
    "not use this model for any practical use.\n",
    "'''\n",
    "\n",
    "plt.plot(Y5[:365,:], '.', label='Y5')\n",
    "plt.plot(T[:365,:], '.', label='T')\n",
    "plt.legend()\n",
    "plt.show()\n",
    "\n",
    "models = [model1,model2,model3,model4,model5]\n"
   ]
  },
  {
   "cell_type": "markdown",
   "metadata": {},
   "source": [
    "## 5 points:\n",
    "\n",
    "Print the weight values in the resulting model along with their corresponding variable names (in `Xnames`). Use the relative magnitude\n",
    "of the weight values to discuss which input variables are most significant in predicting the changes in the tave values."
   ]
  },
  {
   "cell_type": "code",
   "execution_count": 85,
   "metadata": {},
   "outputs": [
    {
     "name": "stdout",
     "output_type": "stream",
     "text": [
      "Model 1\n",
      "        weights\n",
      "tave  -0.084822\n",
      "tmax  -0.075902\n",
      "tmin  -0.087927\n",
      "vp     1.511562\n",
      "rhmax -0.083429\n",
      "rhmin -0.128236\n",
      "pp     0.011244\n",
      "gust  -0.182101\n",
      "\n",
      "\n",
      "Model 2\n",
      "        weights\n",
      "tave   0.247810\n",
      "tmax   0.235719\n",
      "tmin   0.248559\n",
      "vp     0.308606\n",
      "rhmax -0.024105\n",
      "rhmin -0.054383\n",
      "pp     0.051602\n",
      "gust  -0.114585\n",
      "\n",
      "\n",
      "Model 3\n",
      "        weights\n",
      "tave   0.247222\n",
      "tmax   0.239278\n",
      "tmin   0.243052\n",
      "vp     0.234864\n",
      "rhmax -0.028068\n",
      "rhmin -0.042820\n",
      "pp     0.027239\n",
      "gust  -0.103043\n",
      "\n",
      "\n",
      "Model 4\n",
      "        weights\n",
      "tave   0.120852\n",
      "tmax   0.117574\n",
      "tmin   0.118103\n",
      "vp     0.115812\n",
      "rhmax -0.012923\n",
      "rhmin -0.049032\n",
      "pp    -0.005196\n",
      "gust   0.005414\n",
      "\n",
      "\n",
      "Model 5\n",
      "        weights\n",
      "tave   0.003380\n",
      "tmax   0.003299\n",
      "tmin   0.003290\n",
      "vp     0.003202\n",
      "rhmax -0.000440\n",
      "rhmin -0.001472\n",
      "pp    -0.000212\n",
      "gust   0.000319\n",
      "\n",
      "\n"
     ]
    }
   ],
   "source": [
    "num = 1\n",
    "for _model in models:\n",
    "    weights = pd.DataFrame(_model['w'][1:], index=Xnames, columns=['weights'])\n",
    "    print('Model',num)\n",
    "    print(weights)\n",
    "    print('\\n')\n",
    "    num+=1"
   ]
  },
  {
   "cell_type": "markdown",
   "metadata": {},
   "source": [
    "## Grading and Check-in\n",
    "\n",
    "Your notebook will be partially graded automatically.  You can test this grading process yourself by downloading [A1grader.zip](https://www.cs.colostate.edu/~cs445/notebooks/A1grader.zip) and extract `A1grader.py` parallel to this notebook.  Run the code in the in the following cell to see an example grading run.  If your functions are defined correctly, you should see a score of 60/60.  The remaining 40 points are based on testing other data and your discussion."
   ]
  },
  {
   "cell_type": "code",
   "execution_count": 86,
   "metadata": {},
   "outputs": [
    {
     "name": "stdout",
     "output_type": "stream",
     "text": [
      "\n",
      "======================= Code Execution =======================\n",
      "\n",
      "Extracting python code from notebook named 'Meng-Ravipati-A1.ipynb' and storing in notebookcode.py\n",
      "Removing all statements that are not function or class defs or import statements.\n",
      "\n",
      "Testing\n",
      "  X = np.array([1, 2, 3, 4, 5, 8, 9, 11]).reshape((-1, 1))\n",
      "  T = (X - 5) * 0.05 + 0.002 * (X - 8)**2\n",
      "  model = train(X, T, 0.001, 1000, True)\n",
      "\n",
      "Epoch 100 RMSE 0.46\n",
      "Epoch 200 RMSE 0.24\n",
      "Epoch 300 RMSE 0.15\n",
      "Epoch 400 RMSE 0.13\n",
      "Epoch 500 RMSE 0.13\n",
      "Epoch 600 RMSE 0.12\n",
      "Epoch 700 RMSE 0.12\n",
      "Epoch 800 RMSE 0.12\n",
      "Epoch 900 RMSE 0.12\n",
      "Epoch 1000 RMSE 0.12\n",
      "\n",
      "--- 20/20 points. Returned correct values.\n",
      "\n",
      "--- 10/10 points. Xmeans and Xstds are correct values.\n",
      "\n",
      "--- 10/10 points. Tmeans and Tstds are correct values.\n",
      "\n",
      "Testing\n",
      "  Y = use(X, model)\n",
      "\n",
      "\n",
      "--- 10/10 points. Returned correct values.\n",
      "\n",
      "Testing\n",
      "  err = rmse(Y, T)\n",
      "\n",
      "\n",
      "--- 10/10 points. Returned correct values.\n",
      "\n",
      "======================================================================\n",
      "cs445 Execution Grade is 60 / 60\n",
      "======================================================================\n",
      "\n",
      " __ / 5 Reading in weather.data correctly.\n",
      "\n",
      " __ / 5 Count missing values, to show there are some.\n",
      "\n",
      " __ / 5 Remove samples with missing values. Count to show there are none.\n",
      "\n",
      " __ / 5 Construct X and T matrices as specified.\n",
      "\n",
      " __ / 15 Use your train function on X and T. Show results as RMSE values and as plots\n",
      "       for several different values of learning_rate and n_epochs. Type your \n",
      "       observations of RMSE values and of plots with at least five sentences.\n",
      "\n",
      " __ / 5 Print the weight values with corresponding variable names. Discuss\n",
      "       which input variablesa re most signficant in predicting tave values.\n",
      "\n",
      "======================================================================\n",
      "cs445 FINAL GRADE is  _  / 100\n",
      "======================================================================\n",
      "\n",
      "Extra Credit:\n",
      "Predict the change in tave from one day to the next, instead of the actual tave.\n",
      "Show and discuss RMSE and plotting results for several values of learning_rate\n",
      "and n_epochs.\n",
      "\n",
      "cs445 EXTRA CREDIT is 0 / 1\n"
     ]
    }
   ],
   "source": [
    "%run -i A1grader.py"
   ]
  },
  {
   "cell_type": "markdown",
   "metadata": {},
   "source": [
    "A different but similar grading script will be used to grade yout checked-in notebook.  It will include different tests.\n",
    "\n",
    "You must name your notebook as `Lastname-A1.ipynb` with `Lastname` being your last name, and then save this notebook and check it in at the A1 assignment link in our Canvas web page."
   ]
  },
  {
   "cell_type": "markdown",
   "metadata": {},
   "source": [
    "## Extra Credit: 1 point"
   ]
  },
  {
   "cell_type": "markdown",
   "metadata": {},
   "source": [
    "A typical problem when predicting the next value in a time series is\n",
    "that the best solution may be to predict the previous value.  The\n",
    "predicted value will look a lot like the input tave value shifted on\n",
    "time step later.\n",
    "\n",
    "To do better, try predicting the change in tave from one day to the next. `T` can be assigned as"
   ]
  },
  {
   "cell_type": "code",
   "execution_count": null,
   "metadata": {},
   "outputs": [],
   "source": [
    "T = data[1:, 0:1] -  data[:-1, 0:1]"
   ]
  },
  {
   "cell_type": "markdown",
   "metadata": {},
   "source": [
    "Now repeat the training experiments to pick good `learning_rate` and\n",
    "`n_epochs`.  Use predicted values to produce next day tave values by\n",
    "adding the predicted values to the previous day's tave.  Use `rmse`\n",
    "to determine if this way of predicting next tave is better than\n",
    "directly predicting tave."
   ]
  }
 ],
 "metadata": {
  "jupytext": {
   "formats": "ipynb,py"
  },
  "kernelspec": {
   "display_name": "Python 3",
   "language": "python",
   "name": "python3"
  },
  "language_info": {
   "codemirror_mode": {
    "name": "ipython",
    "version": 3
   },
   "file_extension": ".py",
   "mimetype": "text/x-python",
   "name": "python",
   "nbconvert_exporter": "python",
   "pygments_lexer": "ipython3",
   "version": "3.8.3"
  }
 },
 "nbformat": 4,
 "nbformat_minor": 2
}
