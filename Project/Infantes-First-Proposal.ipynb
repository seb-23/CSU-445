{
 "cells": [
  {
   "cell_type": "markdown",
   "metadata": {},
   "source": [
    "$\\newcommand{\\xv}{\\mathbf{x}}\n",
    "\\newcommand{\\Xv}{\\mathbf{X}}\n",
    "\\newcommand{\\yv}{\\mathbf{y}}\n",
    "\\newcommand{\\zv}{\\mathbf{z}}\n",
    "\\newcommand{\\av}{\\mathbf{a}}\n",
    "\\newcommand{\\Wv}{\\mathbf{W}}\n",
    "\\newcommand{\\wv}{\\mathbf{w}}\n",
    "\\newcommand{\\tv}{\\mathbf{t}}\n",
    "\\newcommand{\\Tv}{\\mathbf{T}}\n",
    "\\newcommand{\\muv}{\\boldsymbol{\\mu}}\n",
    "\\newcommand{\\sigmav}{\\boldsymbol{\\sigma}}\n",
    "\\newcommand{\\phiv}{\\boldsymbol{\\phi}}\n",
    "\\newcommand{\\Phiv}{\\boldsymbol{\\Phi}}\n",
    "\\newcommand{\\Sigmav}{\\boldsymbol{\\Sigma}}\n",
    "\\newcommand{\\Lambdav}{\\boldsymbol{\\Lambda}}\n",
    "\\newcommand{\\half}{\\frac{1}{2}}\n",
    "\\newcommand{\\argmax}[1]{\\underset{#1}{\\operatorname{argmax}}}\n",
    "\\newcommand{\\argmin}[1]{\\underset{#1}{\\operatorname{argmin}}}$"
   ]
  },
  {
   "cell_type": "markdown",
   "metadata": {},
   "source": [
    "# Project Proposal for CS445"
   ]
  },
  {
   "cell_type": "markdown",
   "metadata": {},
   "source": [
    "Sebastian Infantes"
   ]
  },
  {
   "cell_type": "markdown",
   "metadata": {},
   "source": [
    "## Introduction"
   ]
  },
  {
   "cell_type": "markdown",
   "metadata": {},
   "source": [
    "Your project might involve some of the following:\n",
    "\n",
    "  * Apply a neural network learning algorithm and implementation covered in class applied to a data set of interest to you.  Analyze the results, in terms of training and testing accuracy, data samples for which the neural network output is incorrect, and displays of activities and/or weights in hidden units to help understand how the neural network is making its decisions.\n",
    "  * Download code from the net that implements an algorithm that was not covered in any of our assignments and apply it to data of interest to you.  Analyze the results, in terms of training and testing accuracy, data samples for which the neural network output is incorrect, and displays of activities and/or weights in hidden units to help understand how the neural network is making its decisions.\n",
    "  * Study at least five research articles from which you can learn about a machine learning topic of interest to you.  Your project will be a written report summarizing each article and describing similarities and differences between the papers, along with a detailed discussion of what you learned.\n",
    "  \n",
    "The above is not an exhaustive list.  This is your chance to be inventive and pursue some machine learning topic of your interest!  Project proposals will be reviewed to make sure they are appropriately scoped for the time period and team size, and to make sure you will put sufficient effort into both technical implementation and data analysis.\n",
    "\n",
    "  * What questions are you seeking to answer?\n",
    "  * What hypotheses can you make about the data you will be exploring?\n",
    "  \n",
    "  \n",
    "  \n",
    "I choose this type of project:\n",
    "  \n",
    "* Study at least five research articles from which you can learn about a machine learning topic of interest to you.  Your project will be a written report summarizing each article and describing similarities and differences between the papers, along with a detailed discussion of what you learned.\n",
    "\n",
    "\n",
    "The topic will be Probabilistic Programming using Bayesian networks.\n",
    "\n",
    "\n",
    "The five research articles are \n",
    "* ZhuSuan: A Library for Bayesian Deep Learning\n",
    "    * https://arxiv.org/pdf/1709.05870v1.pdf\n",
    "    \n",
    "* Dropout as a Bayesian Approximation: Representing Model Uncertainty in Deep Learning\n",
    "    * https://arxiv.org/pdf/1506.02142v6.pdf\n",
    "    \n",
    "* Delayed Sampling and Automatic Rao–Blackwellization of Probabilistic Programs\n",
    "    * https://arxiv.org/pdf/1708.07787v2.pdf\n",
    "    \n",
    "* Simple, Distributed, and Accelerated Probabilistic Programming\n",
    "    * https://arxiv.org/pdf/1811.02091v2.pdf\n",
    "    \n",
    "* Functional Tensors for Probabilistic Programming\n",
    "    * https://paperswithcode.com/paper/functional-tensors-for-probabilistic"
   ]
  },
  {
   "cell_type": "markdown",
   "metadata": {},
   "source": [
    "## Methods"
   ]
  },
  {
   "cell_type": "markdown",
   "metadata": {},
   "source": [
    "Explain why you wish to do the proposed project and the steps you will take to complete the project. Describe the methods you will use.  What are the sources of code or data?  Will you define new algorithms and/or implementations, or download ones from an on-line source?\n",
    "\n",
    "I wish to do this poject because I want to take into account the probabilistic programming aspect of machine learning. The steps I will take to complete this project is be reading the research papers illustrated above and likely more that are not mentioned on that list to have a better grasp as to the what the advantages and disadvantages of probabilistic programming is in machine learning.  I will likely download algorithms from an on-line source and describe the process of why certain things need to be done to have a more successful probabilistic implementation.\n",
    "\n",
    "You may work on your own, or form a team of up to four other students in this class. In this proposal, define how the work on the project will be divided among the team members.  It is not sufficient to just state that all team members will be working together.  \n",
    "\n",
    "I will be working on my own on this project."
   ]
  },
  {
   "cell_type": "markdown",
   "metadata": {},
   "source": [
    "## Possible Results\n",
    "\n",
    "Speculate on possible answers to the questions you provide in the Introduction.\n",
    "\n",
    "Some possible results I can see from my research in probabilistic programming is that better decision can be made on parameter selection instead of taking a random approach in doing so.  Also, have more accuracy in our model because of it.  We can expect to see an increase in complexity too."
   ]
  },
  {
   "cell_type": "markdown",
   "metadata": {},
   "source": [
    "## Timeline\n",
    "\n",
    "Make a list with at least four entries with dates and describe what each team member will accomplish by these dates.  This is for your use.  Your grade will not depend on meeting these deadlines.\n",
    "\n",
    "21 April 2021 \n",
    "* Have read all research papers in the list above.\n",
    "* Have detailed notes on each.\n",
    "* Understand the similarities and differences between the papers.\n",
    "\n",
    "28 April 2021\n",
    "* Have at least half of the rough draft written out.\n",
    "* Have at lest 1 code algorithm example\n",
    "\n",
    "5 May 2021\n",
    "* Finish writing the rough draft.\n",
    "* Include one more coding algorithm example\n",
    "* provide illustrations for the code.\n",
    "\n",
    "11 May 2021\n",
    "* Finalize the rough draft.\n",
    "* Have the paper complete and turn it in."
   ]
  },
  {
   "cell_type": "markdown",
   "metadata": {},
   "source": [
    "## Check-in"
   ]
  },
  {
   "cell_type": "markdown",
   "metadata": {},
   "source": []
  }
 ],
 "metadata": {
  "kernelspec": {
   "display_name": "Python 3",
   "language": "python",
   "name": "python3"
  },
  "language_info": {
   "codemirror_mode": {
    "name": "ipython",
    "version": 3
   },
   "file_extension": ".py",
   "mimetype": "text/x-python",
   "name": "python",
   "nbconvert_exporter": "python",
   "pygments_lexer": "ipython3",
   "version": "3.8.3"
  },
  "toc": {
   "base_numbering": 1,
   "nav_menu": {},
   "number_sections": true,
   "sideBar": true,
   "skip_h1_title": false,
   "title_cell": "Table of Contents",
   "title_sidebar": "Contents",
   "toc_cell": false,
   "toc_position": {},
   "toc_section_display": true,
   "toc_window_display": false
  }
 },
 "nbformat": 4,
 "nbformat_minor": 1
}
