{
 "cells": [
  {
   "cell_type": "markdown",
   "metadata": {},
   "source": [
    "$\\newcommand{\\xv}{\\mathbf{x}}\n",
    "\\newcommand{\\Xv}{\\mathbf{X}}\n",
    "\\newcommand{\\yv}{\\mathbf{y}}\n",
    "\\newcommand{\\zv}{\\mathbf{z}}\n",
    "\\newcommand{\\av}{\\mathbf{a}}\n",
    "\\newcommand{\\Wv}{\\mathbf{W}}\n",
    "\\newcommand{\\wv}{\\mathbf{w}}\n",
    "\\newcommand{\\tv}{\\mathbf{t}}\n",
    "\\newcommand{\\Tv}{\\mathbf{T}}\n",
    "\\newcommand{\\muv}{\\boldsymbol{\\mu}}\n",
    "\\newcommand{\\sigmav}{\\boldsymbol{\\sigma}}\n",
    "\\newcommand{\\phiv}{\\boldsymbol{\\phi}}\n",
    "\\newcommand{\\Phiv}{\\boldsymbol{\\Phi}}\n",
    "\\newcommand{\\Sigmav}{\\boldsymbol{\\Sigma}}\n",
    "\\newcommand{\\Lambdav}{\\boldsymbol{\\Lambda}}\n",
    "\\newcommand{\\half}{\\frac{1}{2}}\n",
    "\\newcommand{\\argmax}[1]{\\underset{#1}{\\operatorname{argmax}}}\n",
    "\\newcommand{\\argmin}[1]{\\underset{#1}{\\operatorname{argmin}}}$"
   ]
  },
  {
   "cell_type": "markdown",
   "metadata": {},
   "source": [
    "# Project Proposal for CS445"
   ]
  },
  {
   "cell_type": "markdown",
   "metadata": {},
   "source": [
    "Sebastian Infantes"
   ]
  },
  {
   "cell_type": "markdown",
   "metadata": {},
   "source": [
    "## Introduction"
   ]
  },
  {
   "cell_type": "markdown",
   "metadata": {},
   "source": [
    "##### Project Type Chosen\n",
    "* Apply a neural network learning algorithm and implementation covered in class applied to a data set of interest to you.  Analyze the results, in terms of training and testing accuracy, data samples for which the neural network output is incorrect, and displays of activities and/or weights in hidden units to help understand how the neural network is making its decisions.\n",
    "\n",
    "\n",
    "\n",
    "### The Neural Network Learning Algorithm\n",
    "* Multilayer Neural Networks for Nonlinear Regression\n",
    "\n",
    "### The Dataset\n",
    "* Stock Market Data: NASDAQ, NYSE and AMEX \n",
    "    * 1-3 stocks worth $5 or less - GCI\n",
    "    * 1-3 stocks from the Nasdaq-100 - NFLX\n",
    "    * 5-10 years worth of stock data for each stock.\n",
    "    \n",
    "### What questions are you seeking to answer?\n",
    "* Should I predict the tomorrows closing price with todays data?\n",
    "    * Is this the best approach?\n",
    "* Is it possible to predict the closing price of a stock having a RMSE Val better than 10%?\n",
    "* What is the optimal time frame for the closing price prediction?\n",
    "    * Is 8 years worth of data better than 5 years?\n",
    "* Does more day-to-day data provide better results?\n",
    "    * By day-to-day data I mean things like: \n",
    "        * Closing Price, Opening Price, Volatility, etc.\n",
    "    * What day-to-day data can be dropped from the machine learning?\n",
    "* Does predicting the closing price of an expensive stock produce a better RMSE Val than a cheaper one?\n",
    "\n",
    "### What hypotheses can you make about the data you will be exploring?\n",
    "* The hypotheses that I can make on the data I will be exploring is that I do not believe any day-to-day data will be dropped from the original dataset. The more years worth of stock data I have, the better the machine learning will perform. I will have to manipulate the original dataset by shifting the closing price column one cell up."
   ]
  },
  {
   "cell_type": "markdown",
   "metadata": {},
   "source": [
    "## Methods"
   ]
  },
  {
   "cell_type": "markdown",
   "metadata": {},
   "source": [
    "Explain why you wish to do the proposed project and the steps you will take to complete the project. Describe the methods you will use.  What are the sources of code or data?  Will you define new algorithms and/or implementations, or download ones from an on-line source?\n",
    "\n",
    "The reason why I wish to do this proposed project is because I have always wanted to apply my programming skills and the education I received at CSU to see how difficult it really is to make predictions in the stock market. Eventually when I graduate I want to invest in the stock market and a great way to learn about it is by trying to manipulate historical data for machine learning purposes. The steps I will take to complete this project are: First, locate the data from yahoo's historical stock data avenues. Second, use the code from my A2 submission or from the lecture notes for the Multilayer Neural Networks for Nonlinear Regression. Third, alter the code any which way I have to. I could also possibly add some additions from other online sources but only if it is necessary. Fourth, run a boatload of experiments on the data. Fifth, draw conclusions.  Sixth, take care of anything else that I am missing at the moment.\n",
    "\n",
    "You may work on your own, or form a team of up to four other students in this class. In this proposal, define how the work on the project will be divided among the team members.  It is not sufficient to just state that all team members will be working together.  \n",
    "\n",
    "I will be working on my own in this project."
   ]
  },
  {
   "cell_type": "markdown",
   "metadata": {},
   "source": [
    "## Possible Results\n",
    "\n",
    "Speculate on possible answers to the questions you provide in the Introduction.\n",
    "\n",
    "The possible answers to my questions are the following: I can believe that a more expensive stock will have a better RMSE Val than a cheaper one. Also I do believe 8 years worth of data is better than 5 years but this may not be true if a recession or some major economic event happened 7 years ago. If the RMSE Val is better for 5 years than I can do some investigation as to what happened 6-8 years prior. I do believe the RMSE Val for predicting the closing price of a stock will be near 10%. Finally, I do believe the best approach to this project is to predict the tomorrow's closing price using today's data. This means I will have to shift the closing price column one cell up so that the machine learning runs appropriately."
   ]
  },
  {
   "cell_type": "markdown",
   "metadata": {},
   "source": [
    "## Timeline\n",
    "\n",
    "Make a list with at least four entries with dates and describe what each team member will accomplish by these dates.  This is for your use.  Your grade will not depend on meeting these deadlines.\n",
    "\n",
    "16 April 2021\n",
    "* Locate the data I will be using to run my expirements.\n",
    "* Make proper adjustments to the A2 code, Multilayer Neural Networks for Nonlinear Regression.\n",
    "\n",
    "23 April 2021\n",
    "* Finish the code necessary to run my experements.\n",
    "* Run several experiments on the finished code.\n",
    "* Begin to write a rough draft on the conclusions I have drawn.\n",
    "\n",
    "30 April 2021\n",
    "* Run a multitude of experiments\n",
    "* Make any necessary adjustments to the code and data.\n",
    "* Add to the rough draft on the conclusions I have drawn.\n",
    "\n",
    "10 May 2021\n",
    "* Have my observations and conclusions completely finished.\n",
    "* Write some things on what can be done to improve the machine learning.\n",
    "* Turn in the final project."
   ]
  },
  {
   "cell_type": "markdown",
   "metadata": {},
   "source": []
  }
 ],
 "metadata": {
  "kernelspec": {
   "display_name": "Python 3",
   "language": "python",
   "name": "python3"
  },
  "language_info": {
   "codemirror_mode": {
    "name": "ipython",
    "version": 3
   },
   "file_extension": ".py",
   "mimetype": "text/x-python",
   "name": "python",
   "nbconvert_exporter": "python",
   "pygments_lexer": "ipython3",
   "version": "3.8.3"
  },
  "toc": {
   "base_numbering": 1,
   "nav_menu": {},
   "number_sections": true,
   "sideBar": true,
   "skip_h1_title": false,
   "title_cell": "Table of Contents",
   "title_sidebar": "Contents",
   "toc_cell": false,
   "toc_position": {},
   "toc_section_display": true,
   "toc_window_display": false
  }
 },
 "nbformat": 4,
 "nbformat_minor": 1
}
